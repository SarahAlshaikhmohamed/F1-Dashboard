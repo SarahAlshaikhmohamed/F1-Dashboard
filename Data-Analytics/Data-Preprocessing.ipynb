{
 "cells": [
  {
   "cell_type": "markdown",
   "id": "05765d5a",
   "metadata": {},
   "source": [
    "# Data Preprocessing"
   ]
  },
  {
   "cell_type": "markdown",
   "id": "9eccae45",
   "metadata": {},
   "source": [
    "### Exploratory Data Analysis (EDA)"
   ]
  },
  {
   "cell_type": "code",
   "execution_count": 9,
   "id": "b27f75fc",
   "metadata": {},
   "outputs": [],
   "source": [
    "import pandas as pd\n",
    "import matplotlib.pyplot as plt\n",
    "import seaborn as sns"
   ]
  },
  {
   "cell_type": "code",
   "execution_count": 19,
   "id": "d4e6afc1",
   "metadata": {},
   "outputs": [
    {
     "data": {
      "text/html": [
       "<div>\n",
       "<style scoped>\n",
       "    .dataframe tbody tr th:only-of-type {\n",
       "        vertical-align: middle;\n",
       "    }\n",
       "\n",
       "    .dataframe tbody tr th {\n",
       "        vertical-align: top;\n",
       "    }\n",
       "\n",
       "    .dataframe thead th {\n",
       "        text-align: right;\n",
       "    }\n",
       "</style>\n",
       "<table border=\"1\" class=\"dataframe\">\n",
       "  <thead>\n",
       "    <tr style=\"text-align: right;\">\n",
       "      <th></th>\n",
       "      <th>date</th>\n",
       "      <th>continent</th>\n",
       "      <th>grand_prix</th>\n",
       "      <th>circuit</th>\n",
       "      <th>winner_name</th>\n",
       "      <th>team</th>\n",
       "      <th>time</th>\n",
       "      <th>laps</th>\n",
       "      <th>year</th>\n",
       "    </tr>\n",
       "  </thead>\n",
       "  <tbody>\n",
       "    <tr>\n",
       "      <th>0</th>\n",
       "      <td>5/13/1950</td>\n",
       "      <td>Europe</td>\n",
       "      <td>Great Britain</td>\n",
       "      <td>Silverstone Circuit</td>\n",
       "      <td>Nino Farina</td>\n",
       "      <td>Alfa Romeo</td>\n",
       "      <td>2:13:23</td>\n",
       "      <td>70</td>\n",
       "      <td>1950</td>\n",
       "    </tr>\n",
       "    <tr>\n",
       "      <th>1</th>\n",
       "      <td>5/21/1950</td>\n",
       "      <td>Europe</td>\n",
       "      <td>Monaco</td>\n",
       "      <td>Circuit de Monaco</td>\n",
       "      <td>Juan Manuel Fangio</td>\n",
       "      <td>Alfa Romeo</td>\n",
       "      <td>3:13:18</td>\n",
       "      <td>100</td>\n",
       "      <td>1950</td>\n",
       "    </tr>\n",
       "    <tr>\n",
       "      <th>2</th>\n",
       "      <td>5/30/1950</td>\n",
       "      <td>North America</td>\n",
       "      <td>United States</td>\n",
       "      <td>Indianapolis Motor Speedway</td>\n",
       "      <td>Johnnie Parsons</td>\n",
       "      <td>Kurtis Kraft Offenhauser</td>\n",
       "      <td>2:46:55</td>\n",
       "      <td>138</td>\n",
       "      <td>1950</td>\n",
       "    </tr>\n",
       "    <tr>\n",
       "      <th>3</th>\n",
       "      <td>6/4/1950</td>\n",
       "      <td>Europe</td>\n",
       "      <td>Switzerland</td>\n",
       "      <td>Circuit Bremgarten</td>\n",
       "      <td>Nino Farina</td>\n",
       "      <td>Alfa Romeo</td>\n",
       "      <td>2:02:53</td>\n",
       "      <td>42</td>\n",
       "      <td>1950</td>\n",
       "    </tr>\n",
       "    <tr>\n",
       "      <th>4</th>\n",
       "      <td>6/18/1950</td>\n",
       "      <td>Europe</td>\n",
       "      <td>Belgium</td>\n",
       "      <td>Circuit de Spa Francorchamps</td>\n",
       "      <td>Juan Manuel Fangio</td>\n",
       "      <td>Alfa Romeo</td>\n",
       "      <td>2:47:26</td>\n",
       "      <td>35</td>\n",
       "      <td>1950</td>\n",
       "    </tr>\n",
       "  </tbody>\n",
       "</table>\n",
       "</div>"
      ],
      "text/plain": [
       "        date      continent     grand_prix                       circuit  \\\n",
       "0  5/13/1950         Europe  Great Britain           Silverstone Circuit   \n",
       "1  5/21/1950         Europe         Monaco             Circuit de Monaco   \n",
       "2  5/30/1950  North America  United States   Indianapolis Motor Speedway   \n",
       "3   6/4/1950         Europe    Switzerland            Circuit Bremgarten   \n",
       "4  6/18/1950         Europe        Belgium  Circuit de Spa Francorchamps   \n",
       "\n",
       "          winner_name                      team     time  laps  year  \n",
       "0         Nino Farina                Alfa Romeo  2:13:23    70  1950  \n",
       "1  Juan Manuel Fangio                Alfa Romeo  3:13:18   100  1950  \n",
       "2     Johnnie Parsons  Kurtis Kraft Offenhauser  2:46:55   138  1950  \n",
       "3         Nino Farina                Alfa Romeo  2:02:53    42  1950  \n",
       "4  Juan Manuel Fangio                Alfa Romeo  2:47:26    35  1950  "
      ]
     },
     "execution_count": 19,
     "metadata": {},
     "output_type": "execute_result"
    }
   ],
   "source": [
    "# Dataset csv file read\n",
    "df = pd.read_csv(\"/Users/hp/Desktop/F1-Dashboard/F1-Dashboard/Dataset/winners_f1_1950_2025_v2.csv\")\n",
    "\n",
    "# Show first 5 rows\n",
    "df.head()"
   ]
  },
  {
   "cell_type": "code",
   "execution_count": 3,
   "id": "d915569a",
   "metadata": {},
   "outputs": [
    {
     "data": {
      "text/plain": [
       "(1141, 9)"
      ]
     },
     "execution_count": 3,
     "metadata": {},
     "output_type": "execute_result"
    }
   ],
   "source": [
    "# Dataset shape\n",
    "df.shape"
   ]
  },
  {
   "cell_type": "code",
   "execution_count": 4,
   "id": "012c1ff9",
   "metadata": {},
   "outputs": [
    {
     "name": "stdout",
     "output_type": "stream",
     "text": [
      "<class 'pandas.core.frame.DataFrame'>\n",
      "RangeIndex: 1141 entries, 0 to 1140\n",
      "Data columns (total 9 columns):\n",
      " #   Column       Non-Null Count  Dtype \n",
      "---  ------       --------------  ----- \n",
      " 0   date         1141 non-null   object\n",
      " 1   continent    1141 non-null   object\n",
      " 2   grand_prix   1141 non-null   object\n",
      " 3   circuit      1141 non-null   object\n",
      " 4   winner_name  1141 non-null   object\n",
      " 5   team         1141 non-null   object\n",
      " 6   time         1141 non-null   object\n",
      " 7   laps         1141 non-null   int64 \n",
      " 8   year         1141 non-null   int64 \n",
      "dtypes: int64(2), object(7)\n",
      "memory usage: 80.4+ KB\n"
     ]
    }
   ],
   "source": [
    "# Dataset information\n",
    "df.info()"
   ]
  },
  {
   "cell_type": "code",
   "execution_count": 5,
   "id": "c59a9f9d",
   "metadata": {},
   "outputs": [
    {
     "data": {
      "text/plain": [
       "date           object\n",
       "continent      object\n",
       "grand_prix     object\n",
       "circuit        object\n",
       "winner_name    object\n",
       "team           object\n",
       "time           object\n",
       "laps            int64\n",
       "year            int64\n",
       "dtype: object"
      ]
     },
     "execution_count": 5,
     "metadata": {},
     "output_type": "execute_result"
    }
   ],
   "source": [
    "# Dataset types\n",
    "df.dtypes"
   ]
  },
  {
   "cell_type": "code",
   "execution_count": null,
   "id": "561637a7",
   "metadata": {},
   "outputs": [
    {
     "data": {
      "text/plain": [
       "date           0\n",
       "continent      0\n",
       "grand_prix     0\n",
       "circuit        0\n",
       "winner_name    0\n",
       "team           0\n",
       "time           0\n",
       "laps           0\n",
       "year           0\n",
       "dtype: int64"
      ]
     },
     "execution_count": 6,
     "metadata": {},
     "output_type": "execute_result"
    }
   ],
   "source": [
    "# Show missing values for each column\n",
    "df.isnull().sum()"
   ]
  },
  {
   "cell_type": "code",
   "execution_count": 7,
   "id": "018fdf71",
   "metadata": {},
   "outputs": [
    {
     "data": {
      "text/html": [
       "<div>\n",
       "<style scoped>\n",
       "    .dataframe tbody tr th:only-of-type {\n",
       "        vertical-align: middle;\n",
       "    }\n",
       "\n",
       "    .dataframe tbody tr th {\n",
       "        vertical-align: top;\n",
       "    }\n",
       "\n",
       "    .dataframe thead th {\n",
       "        text-align: right;\n",
       "    }\n",
       "</style>\n",
       "<table border=\"1\" class=\"dataframe\">\n",
       "  <thead>\n",
       "    <tr style=\"text-align: right;\">\n",
       "      <th></th>\n",
       "      <th>date</th>\n",
       "      <th>continent</th>\n",
       "      <th>grand_prix</th>\n",
       "      <th>circuit</th>\n",
       "      <th>winner_name</th>\n",
       "      <th>team</th>\n",
       "      <th>time</th>\n",
       "      <th>laps</th>\n",
       "      <th>year</th>\n",
       "    </tr>\n",
       "  </thead>\n",
       "  <tbody>\n",
       "    <tr>\n",
       "      <th>count</th>\n",
       "      <td>1141</td>\n",
       "      <td>1141</td>\n",
       "      <td>1141</td>\n",
       "      <td>1141</td>\n",
       "      <td>1141</td>\n",
       "      <td>1141</td>\n",
       "      <td>1141</td>\n",
       "      <td>1141.000000</td>\n",
       "      <td>1141.000000</td>\n",
       "    </tr>\n",
       "    <tr>\n",
       "      <th>unique</th>\n",
       "      <td>1138</td>\n",
       "      <td>6</td>\n",
       "      <td>36</td>\n",
       "      <td>77</td>\n",
       "      <td>115</td>\n",
       "      <td>65</td>\n",
       "      <td>963</td>\n",
       "      <td>NaN</td>\n",
       "      <td>NaN</td>\n",
       "    </tr>\n",
       "    <tr>\n",
       "      <th>top</th>\n",
       "      <td>7/1/1951</td>\n",
       "      <td>Europe</td>\n",
       "      <td>Italy</td>\n",
       "      <td>Autodromo Nazionale di Monza</td>\n",
       "      <td>Lewis Hamilton</td>\n",
       "      <td>Ferrari</td>\n",
       "      <td>1:32:58</td>\n",
       "      <td>NaN</td>\n",
       "      <td>NaN</td>\n",
       "    </tr>\n",
       "    <tr>\n",
       "      <th>freq</th>\n",
       "      <td>2</td>\n",
       "      <td>686</td>\n",
       "      <td>82</td>\n",
       "      <td>75</td>\n",
       "      <td>105</td>\n",
       "      <td>249</td>\n",
       "      <td>4</td>\n",
       "      <td>NaN</td>\n",
       "      <td>NaN</td>\n",
       "    </tr>\n",
       "    <tr>\n",
       "      <th>mean</th>\n",
       "      <td>NaN</td>\n",
       "      <td>NaN</td>\n",
       "      <td>NaN</td>\n",
       "      <td>NaN</td>\n",
       "      <td>NaN</td>\n",
       "      <td>NaN</td>\n",
       "      <td>NaN</td>\n",
       "      <td>64.646801</td>\n",
       "      <td>1992.985101</td>\n",
       "    </tr>\n",
       "    <tr>\n",
       "      <th>std</th>\n",
       "      <td>NaN</td>\n",
       "      <td>NaN</td>\n",
       "      <td>NaN</td>\n",
       "      <td>NaN</td>\n",
       "      <td>NaN</td>\n",
       "      <td>NaN</td>\n",
       "      <td>NaN</td>\n",
       "      <td>20.049208</td>\n",
       "      <td>20.853851</td>\n",
       "    </tr>\n",
       "    <tr>\n",
       "      <th>min</th>\n",
       "      <td>NaN</td>\n",
       "      <td>NaN</td>\n",
       "      <td>NaN</td>\n",
       "      <td>NaN</td>\n",
       "      <td>NaN</td>\n",
       "      <td>NaN</td>\n",
       "      <td>NaN</td>\n",
       "      <td>1.000000</td>\n",
       "      <td>1950.000000</td>\n",
       "    </tr>\n",
       "    <tr>\n",
       "      <th>25%</th>\n",
       "      <td>NaN</td>\n",
       "      <td>NaN</td>\n",
       "      <td>NaN</td>\n",
       "      <td>NaN</td>\n",
       "      <td>NaN</td>\n",
       "      <td>NaN</td>\n",
       "      <td>NaN</td>\n",
       "      <td>54.000000</td>\n",
       "      <td>1977.000000</td>\n",
       "    </tr>\n",
       "    <tr>\n",
       "      <th>50%</th>\n",
       "      <td>NaN</td>\n",
       "      <td>NaN</td>\n",
       "      <td>NaN</td>\n",
       "      <td>NaN</td>\n",
       "      <td>NaN</td>\n",
       "      <td>NaN</td>\n",
       "      <td>NaN</td>\n",
       "      <td>64.000000</td>\n",
       "      <td>1995.000000</td>\n",
       "    </tr>\n",
       "    <tr>\n",
       "      <th>75%</th>\n",
       "      <td>NaN</td>\n",
       "      <td>NaN</td>\n",
       "      <td>NaN</td>\n",
       "      <td>NaN</td>\n",
       "      <td>NaN</td>\n",
       "      <td>NaN</td>\n",
       "      <td>NaN</td>\n",
       "      <td>72.000000</td>\n",
       "      <td>2011.000000</td>\n",
       "    </tr>\n",
       "    <tr>\n",
       "      <th>max</th>\n",
       "      <td>NaN</td>\n",
       "      <td>NaN</td>\n",
       "      <td>NaN</td>\n",
       "      <td>NaN</td>\n",
       "      <td>NaN</td>\n",
       "      <td>NaN</td>\n",
       "      <td>NaN</td>\n",
       "      <td>200.000000</td>\n",
       "      <td>2025.000000</td>\n",
       "    </tr>\n",
       "  </tbody>\n",
       "</table>\n",
       "</div>"
      ],
      "text/plain": [
       "            date continent grand_prix                       circuit  \\\n",
       "count       1141      1141       1141                          1141   \n",
       "unique      1138         6         36                            77   \n",
       "top     7/1/1951    Europe      Italy  Autodromo Nazionale di Monza   \n",
       "freq           2       686         82                            75   \n",
       "mean         NaN       NaN        NaN                           NaN   \n",
       "std          NaN       NaN        NaN                           NaN   \n",
       "min          NaN       NaN        NaN                           NaN   \n",
       "25%          NaN       NaN        NaN                           NaN   \n",
       "50%          NaN       NaN        NaN                           NaN   \n",
       "75%          NaN       NaN        NaN                           NaN   \n",
       "max          NaN       NaN        NaN                           NaN   \n",
       "\n",
       "           winner_name     team     time         laps         year  \n",
       "count             1141     1141     1141  1141.000000  1141.000000  \n",
       "unique             115       65      963          NaN          NaN  \n",
       "top     Lewis Hamilton  Ferrari  1:32:58          NaN          NaN  \n",
       "freq               105      249        4          NaN          NaN  \n",
       "mean               NaN      NaN      NaN    64.646801  1992.985101  \n",
       "std                NaN      NaN      NaN    20.049208    20.853851  \n",
       "min                NaN      NaN      NaN     1.000000  1950.000000  \n",
       "25%                NaN      NaN      NaN    54.000000  1977.000000  \n",
       "50%                NaN      NaN      NaN    64.000000  1995.000000  \n",
       "75%                NaN      NaN      NaN    72.000000  2011.000000  \n",
       "max                NaN      NaN      NaN   200.000000  2025.000000  "
      ]
     },
     "execution_count": 7,
     "metadata": {},
     "output_type": "execute_result"
    }
   ],
   "source": [
    "# Show basic statistics\n",
    "df.describe(include=\"all\")"
   ]
  },
  {
   "cell_type": "code",
   "execution_count": 8,
   "id": "9188e691",
   "metadata": {},
   "outputs": [
    {
     "data": {
      "text/html": [
       "<div>\n",
       "<style scoped>\n",
       "    .dataframe tbody tr th:only-of-type {\n",
       "        vertical-align: middle;\n",
       "    }\n",
       "\n",
       "    .dataframe tbody tr th {\n",
       "        vertical-align: top;\n",
       "    }\n",
       "\n",
       "    .dataframe thead th {\n",
       "        text-align: right;\n",
       "    }\n",
       "</style>\n",
       "<table border=\"1\" class=\"dataframe\">\n",
       "  <thead>\n",
       "    <tr style=\"text-align: right;\">\n",
       "      <th></th>\n",
       "      <th>date</th>\n",
       "      <th>continent</th>\n",
       "      <th>grand_prix</th>\n",
       "      <th>circuit</th>\n",
       "      <th>winner_name</th>\n",
       "      <th>team</th>\n",
       "      <th>time</th>\n",
       "      <th>laps</th>\n",
       "      <th>year</th>\n",
       "    </tr>\n",
       "  </thead>\n",
       "  <tbody>\n",
       "    <tr>\n",
       "      <th>597</th>\n",
       "      <td>9/8/1996</td>\n",
       "      <td>Europe</td>\n",
       "      <td>Italy</td>\n",
       "      <td>Autodromo Nazionale di Monza</td>\n",
       "      <td>Michael Schumacher</td>\n",
       "      <td>Ferrari</td>\n",
       "      <td>1:17:43</td>\n",
       "      <td>53</td>\n",
       "      <td>1996</td>\n",
       "    </tr>\n",
       "  </tbody>\n",
       "</table>\n",
       "</div>"
      ],
      "text/plain": [
       "         date continent grand_prix                       circuit  \\\n",
       "597  9/8/1996    Europe      Italy  Autodromo Nazionale di Monza   \n",
       "\n",
       "            winner_name     team     time  laps  year  \n",
       "597  Michael Schumacher  Ferrari  1:17:43    53  1996  "
      ]
     },
     "execution_count": 8,
     "metadata": {},
     "output_type": "execute_result"
    }
   ],
   "source": [
    "# Dataset sample\n",
    "df.sample()"
   ]
  },
  {
   "cell_type": "code",
   "execution_count": 10,
   "id": "7de39d58",
   "metadata": {},
   "outputs": [
    {
     "data": {
      "image/png": "[encoded data removed]",
      "text/plain": [
       "<Figure size 640x480 with 1 Axes>"
      ]
     },
     "metadata": {},
     "output_type": "display_data"
    },
    {
     "data": {
      "image/png": "[encoded data removed]",
      "text/plain": [
       "<Figure size 640x480 with 1 Axes>"
      ]
     },
     "metadata": {},
     "output_type": "display_data"
    }
   ],
   "source": [
    "plt.hist(df[\"laps\"], bins=20, color=\"skyblue\")\n",
    "plt.title(\"Distribution of laps\")\n",
    "plt.show()\n",
    "\n",
    "\n",
    "top_winners = df[\"winner_name\"].value_counts().head(10)\n",
    "sns.barplot(x=top_winners.values, y=top_winners.index)\n",
    "plt.title(\"Top 10 F1 Winners\")\n",
    "plt.show()"
   ]
  },
  {
   "cell_type": "markdown",
   "id": "f4847536",
   "metadata": {},
   "source": [
    "### Data Cleaning"
   ]
  },
  {
   "cell_type": "code",
   "execution_count": 20,
   "id": "331eb371",
   "metadata": {},
   "outputs": [
    {
     "data": {
      "text/html": [
       "<div>\n",
       "<style scoped>\n",
       "    .dataframe tbody tr th:only-of-type {\n",
       "        vertical-align: middle;\n",
       "    }\n",
       "\n",
       "    .dataframe tbody tr th {\n",
       "        vertical-align: top;\n",
       "    }\n",
       "\n",
       "    .dataframe thead th {\n",
       "        text-align: right;\n",
       "    }\n",
       "</style>\n",
       "<table border=\"1\" class=\"dataframe\">\n",
       "  <thead>\n",
       "    <tr style=\"text-align: right;\">\n",
       "      <th></th>\n",
       "      <th>date</th>\n",
       "      <th>continent</th>\n",
       "      <th>grand_prix</th>\n",
       "      <th>circuit</th>\n",
       "      <th>winner_name</th>\n",
       "      <th>team</th>\n",
       "      <th>time</th>\n",
       "      <th>laps</th>\n",
       "      <th>year</th>\n",
       "    </tr>\n",
       "  </thead>\n",
       "  <tbody>\n",
       "    <tr>\n",
       "      <th>0</th>\n",
       "      <td>5/13/1950</td>\n",
       "      <td>Europe</td>\n",
       "      <td>Great Britain</td>\n",
       "      <td>Silverstone Circuit</td>\n",
       "      <td>Nino Farina</td>\n",
       "      <td>Alfa Romeo</td>\n",
       "      <td>2:13:23</td>\n",
       "      <td>70</td>\n",
       "      <td>1950</td>\n",
       "    </tr>\n",
       "    <tr>\n",
       "      <th>1</th>\n",
       "      <td>5/21/1950</td>\n",
       "      <td>Europe</td>\n",
       "      <td>Monaco</td>\n",
       "      <td>Circuit de Monaco</td>\n",
       "      <td>Juan Manuel Fangio</td>\n",
       "      <td>Alfa Romeo</td>\n",
       "      <td>3:13:18</td>\n",
       "      <td>100</td>\n",
       "      <td>1950</td>\n",
       "    </tr>\n",
       "    <tr>\n",
       "      <th>2</th>\n",
       "      <td>5/30/1950</td>\n",
       "      <td>North America</td>\n",
       "      <td>United States</td>\n",
       "      <td>Indianapolis Motor Speedway</td>\n",
       "      <td>Johnnie Parsons</td>\n",
       "      <td>Kurtis Kraft Offenhauser</td>\n",
       "      <td>2:46:55</td>\n",
       "      <td>138</td>\n",
       "      <td>1950</td>\n",
       "    </tr>\n",
       "    <tr>\n",
       "      <th>3</th>\n",
       "      <td>6/4/1950</td>\n",
       "      <td>Europe</td>\n",
       "      <td>Switzerland</td>\n",
       "      <td>Circuit Bremgarten</td>\n",
       "      <td>Nino Farina</td>\n",
       "      <td>Alfa Romeo</td>\n",
       "      <td>2:02:53</td>\n",
       "      <td>42</td>\n",
       "      <td>1950</td>\n",
       "    </tr>\n",
       "    <tr>\n",
       "      <th>4</th>\n",
       "      <td>6/18/1950</td>\n",
       "      <td>Europe</td>\n",
       "      <td>Belgium</td>\n",
       "      <td>Circuit de Spa Francorchamps</td>\n",
       "      <td>Juan Manuel Fangio</td>\n",
       "      <td>Alfa Romeo</td>\n",
       "      <td>2:47:26</td>\n",
       "      <td>35</td>\n",
       "      <td>1950</td>\n",
       "    </tr>\n",
       "    <tr>\n",
       "      <th>...</th>\n",
       "      <td>...</td>\n",
       "      <td>...</td>\n",
       "      <td>...</td>\n",
       "      <td>...</td>\n",
       "      <td>...</td>\n",
       "      <td>...</td>\n",
       "      <td>...</td>\n",
       "      <td>...</td>\n",
       "      <td>...</td>\n",
       "    </tr>\n",
       "    <tr>\n",
       "      <th>1136</th>\n",
       "      <td>6/15/2025</td>\n",
       "      <td>North America</td>\n",
       "      <td>Canada</td>\n",
       "      <td>Circuit Gilles Villeneuve</td>\n",
       "      <td>George Russell</td>\n",
       "      <td>Mercedes</td>\n",
       "      <td>1:31:52</td>\n",
       "      <td>70</td>\n",
       "      <td>2025</td>\n",
       "    </tr>\n",
       "    <tr>\n",
       "      <th>1137</th>\n",
       "      <td>6/29/2025</td>\n",
       "      <td>Europe</td>\n",
       "      <td>Austria</td>\n",
       "      <td>Red Bull Ring</td>\n",
       "      <td>Lando Norris</td>\n",
       "      <td>McLaren</td>\n",
       "      <td>1:23:47</td>\n",
       "      <td>70</td>\n",
       "      <td>2025</td>\n",
       "    </tr>\n",
       "    <tr>\n",
       "      <th>1138</th>\n",
       "      <td>7/6/2025</td>\n",
       "      <td>Europe</td>\n",
       "      <td>Great Britain</td>\n",
       "      <td>Silverstone Circuit</td>\n",
       "      <td>Lando Norris</td>\n",
       "      <td>McLaren</td>\n",
       "      <td>1:37:15</td>\n",
       "      <td>52</td>\n",
       "      <td>2025</td>\n",
       "    </tr>\n",
       "    <tr>\n",
       "      <th>1139</th>\n",
       "      <td>7/27/2025</td>\n",
       "      <td>Europe</td>\n",
       "      <td>Belgium</td>\n",
       "      <td>Circuit de Spa Francorchamps</td>\n",
       "      <td>Oscar Piastri</td>\n",
       "      <td>McLaren</td>\n",
       "      <td>1:25:22</td>\n",
       "      <td>44</td>\n",
       "      <td>2025</td>\n",
       "    </tr>\n",
       "    <tr>\n",
       "      <th>1140</th>\n",
       "      <td>8/3/2025</td>\n",
       "      <td>Europe</td>\n",
       "      <td>Hungary</td>\n",
       "      <td>Hungaroring</td>\n",
       "      <td>Lando Norris</td>\n",
       "      <td>McLaren</td>\n",
       "      <td>1:35:21</td>\n",
       "      <td>70</td>\n",
       "      <td>2025</td>\n",
       "    </tr>\n",
       "  </tbody>\n",
       "</table>\n",
       "<p>1141 rows × 9 columns</p>\n",
       "</div>"
      ],
      "text/plain": [
       "           date      continent     grand_prix                       circuit  \\\n",
       "0     5/13/1950         Europe  Great Britain           Silverstone Circuit   \n",
       "1     5/21/1950         Europe         Monaco             Circuit de Monaco   \n",
       "2     5/30/1950  North America  United States   Indianapolis Motor Speedway   \n",
       "3      6/4/1950         Europe    Switzerland            Circuit Bremgarten   \n",
       "4     6/18/1950         Europe        Belgium  Circuit de Spa Francorchamps   \n",
       "...         ...            ...            ...                           ...   \n",
       "1136  6/15/2025  North America         Canada     Circuit Gilles Villeneuve   \n",
       "1137  6/29/2025         Europe        Austria                 Red Bull Ring   \n",
       "1138   7/6/2025         Europe  Great Britain           Silverstone Circuit   \n",
       "1139  7/27/2025         Europe        Belgium  Circuit de Spa Francorchamps   \n",
       "1140   8/3/2025         Europe        Hungary                   Hungaroring   \n",
       "\n",
       "             winner_name                      team     time  laps  year  \n",
       "0            Nino Farina                Alfa Romeo  2:13:23    70  1950  \n",
       "1     Juan Manuel Fangio                Alfa Romeo  3:13:18   100  1950  \n",
       "2        Johnnie Parsons  Kurtis Kraft Offenhauser  2:46:55   138  1950  \n",
       "3            Nino Farina                Alfa Romeo  2:02:53    42  1950  \n",
       "4     Juan Manuel Fangio                Alfa Romeo  2:47:26    35  1950  \n",
       "...                  ...                       ...      ...   ...   ...  \n",
       "1136      George Russell                  Mercedes  1:31:52    70  2025  \n",
       "1137        Lando Norris                   McLaren  1:23:47    70  2025  \n",
       "1138        Lando Norris                   McLaren  1:37:15    52  2025  \n",
       "1139       Oscar Piastri                   McLaren  1:25:22    44  2025  \n",
       "1140        Lando Norris                   McLaren  1:35:21    70  2025  \n",
       "\n",
       "[1141 rows x 9 columns]"
      ]
     },
     "execution_count": 20,
     "metadata": {},
     "output_type": "execute_result"
    }
   ],
   "source": [
    "# Clean the speces in columns names\n",
    "for col in ['winner_name', 'team', 'grand_prix', 'circuit']:\n",
    "    if col in df.columns:\n",
    "        df[col] = df[col].astype(str).str.strip()\n",
    "\n",
    "df"
   ]
  },
  {
   "cell_type": "code",
   "execution_count": 21,
   "id": "03916f9e",
   "metadata": {},
   "outputs": [
    {
     "data": {
      "text/plain": [
       "date           0\n",
       "continent      0\n",
       "grand_prix     0\n",
       "circuit        0\n",
       "winner_name    0\n",
       "team           0\n",
       "time           0\n",
       "laps           0\n",
       "year           0\n",
       "dtype: int64"
      ]
     },
     "execution_count": 21,
     "metadata": {},
     "output_type": "execute_result"
    }
   ],
   "source": [
    "# Fill Missing Values\n",
    "df = df.fillna(\"Unknown\")\n",
    "df.isna().sum()"
   ]
  },
  {
   "cell_type": "code",
   "execution_count": 23,
   "id": "db389eea",
   "metadata": {},
   "outputs": [
    {
     "data": {
      "text/plain": [
       "0"
      ]
     },
     "execution_count": 23,
     "metadata": {},
     "output_type": "execute_result"
    }
   ],
   "source": [
    "# Remove duplicates\n",
    "df = df.drop_duplicates()\n",
    "df.duplicated().sum()"
   ]
  },
  {
   "cell_type": "code",
   "execution_count": 24,
   "id": "5c6fd96c",
   "metadata": {},
   "outputs": [
    {
     "name": "stdout",
     "output_type": "stream",
     "text": [
      "<class 'pandas.core.frame.DataFrame'>\n",
      "RangeIndex: 1141 entries, 0 to 1140\n",
      "Data columns (total 9 columns):\n",
      " #   Column       Non-Null Count  Dtype         \n",
      "---  ------       --------------  -----         \n",
      " 0   date         1141 non-null   datetime64[ns]\n",
      " 1   continent    1141 non-null   category      \n",
      " 2   grand_prix   1141 non-null   category      \n",
      " 3   circuit      1141 non-null   object        \n",
      " 4   winner_name  1141 non-null   object        \n",
      " 5   team         1141 non-null   category      \n",
      " 6   time         1141 non-null   datetime64[ns]\n",
      " 7   laps         1141 non-null   Int64         \n",
      " 8   year         1141 non-null   Int64         \n",
      "dtypes: Int64(2), category(3), datetime64[ns](2), object(2)\n",
      "memory usage: 63.3+ KB\n"
     ]
    },
    {
     "name": "stderr",
     "output_type": "stream",
     "text": [
      "C:\\Users\\hp\\AppData\\Local\\Temp\\ipykernel_25144\\4245516291.py:4: UserWarning: Could not infer format, so each element will be parsed individually, falling back to `dateutil`. To ensure parsing is consistent and as-expected, please specify a format.\n",
      "  df['time'] = pd.to_datetime(df['time'], errors='coerce')\n"
     ]
    }
   ],
   "source": [
    "# Change data types\n",
    "df[['year', 'laps']] = df[['year','laps']].astype('Int64')\n",
    "df['date'] = pd.to_datetime(df['date'], errors='coerce')\n",
    "df['time'] = pd.to_datetime(df['time'], errors='coerce')\n",
    "df[['team', 'grand_prix','continent']] = df[['team', 'grand_prix','continent']].astype('category')\n",
    "\n",
    "df.info()"
   ]
  },
  {
   "cell_type": "code",
   "execution_count": 25,
   "id": "fde788ac",
   "metadata": {},
   "outputs": [
    {
     "data": {
      "text/plain": [
       "Index(['Date', 'Continent', 'Grand-Prix', 'Circuit', 'Winner-Name', 'Team',\n",
       "       'Time', 'Laps', 'Year'],\n",
       "      dtype='object')"
      ]
     },
     "execution_count": 25,
     "metadata": {},
     "output_type": "execute_result"
    }
   ],
   "source": [
    "# Rename columns names\n",
    "df.rename(columns={'date': 'Date',\n",
    "                   'continent': 'Continent',\n",
    "                   'grand_prix' :'Grand-Prix',\n",
    "                   'circuit' : 'Circuit',\n",
    "                   'winner_name': 'Winner-Name',\n",
    "                   'team': 'Team',\n",
    "                   'time' :'Time',\n",
    "                   'laps' : 'Laps',\n",
    "                   'year': 'Year'}, inplace=True)\n",
    "\n",
    "df.columns"
   ]
  },
  {
   "cell_type": "code",
   "execution_count": 29,
   "id": "6765f1f2",
   "metadata": {},
   "outputs": [],
   "source": [
    "# Save cleaned dataset\n",
    "df.to_csv(\"../Dataset/winners_f1_cleaned.csv\", index=False)"
   ]
  }
 ],
 "metadata": {
  "kernelspec": {
   "display_name": "base",
   "language": "python",
   "name": "python3"
  },
  "language_info": {
   "codemirror_mode": {
    "name": "ipython",
    "version": 3
   },
   "file_extension": ".py",
   "mimetype": "text/x-python",
   "name": "python",
   "nbconvert_exporter": "python",
   "pygments_lexer": "ipython3",
   "version": "3.12.4"
  }
 },
 "nbformat": 4,
 "nbformat_minor": 5
}
